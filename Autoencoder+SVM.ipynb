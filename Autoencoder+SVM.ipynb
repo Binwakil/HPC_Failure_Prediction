{
 "cells": [
  {
   "cell_type": "code",
   "execution_count": 5,
   "id": "a818a708",
   "metadata": {},
   "outputs": [
    {
     "name": "stdout",
     "output_type": "stream",
     "text": [
      "✅ Dataset loaded: (405894, 34)\n",
      "✅ Parsed histograms using regex. Valid rows: 390219\n",
      "Example parsed histogram (first 10 bins): [0.00314331 0.00381088 0.00401306 0.00415039 0.00432587 0.00449371\n",
      " 0.00463104 0.00478363 0.00498962 0.00530243]\n"
     ]
    },
    {
     "name": "stderr",
     "output_type": "stream",
     "text": [
      "C:\\Users\\binwa\\AppData\\Local\\Temp\\ipykernel_19640\\3909176530.py:25: SettingWithCopyWarning: \n",
      "A value is trying to be set on a copy of a slice from a DataFrame.\n",
      "Try using .loc[row_indexer,col_indexer] = value instead\n",
      "\n",
      "See the caveats in the documentation: https://pandas.pydata.org/pandas-docs/stable/user_guide/indexing.html#returning-a-view-versus-a-copy\n",
      "  df_clean[\"failed\"] = df_clean[\"failed\"].astype(int)\n"
     ]
    }
   ],
   "source": [
    "import pandas as pd\n",
    "import numpy as np\n",
    "import re\n",
    "from ast import literal_eval\n",
    "\n",
    "# Load dataset\n",
    "df = pd.read_csv(\"Data/borg_traces_data.csv\")\n",
    "print(\"✅ Dataset loaded:\", df.shape)\n",
    "\n",
    "# Fix parsing of CPU histograms\n",
    "def parse_hist(x):\n",
    "    try:\n",
    "        if isinstance(x, str):\n",
    "            x_clean = re.sub(r\"\\s+\", \",\", x.strip())\n",
    "            arr = np.array(literal_eval(x_clean), dtype=np.float32)\n",
    "            return arr if arr.shape[0] == 11 else None  # Match 11-bin sequences\n",
    "    except:\n",
    "        return None\n",
    "    return None\n",
    "\n",
    "df[\"cpu_hist\"] = df[\"cpu_usage_distribution\"].apply(parse_hist)\n",
    "\n",
    "# Clean subset with histograms, time, and healthy label\n",
    "df_clean = df.dropna(subset=[\"cpu_hist\", \"time\", \"machine_id\", \"failed\"])\n",
    "df_clean[\"failed\"] = df_clean[\"failed\"].astype(int)\n",
    "\n",
    "print(f\"✅ Parsed histograms using regex. Valid rows: {len(df_clean)}\")\n",
    "print(\"Example parsed histogram (first 10 bins):\", df_clean[\"cpu_hist\"].iloc[0][:10])\n"
   ]
  },
  {
   "cell_type": "code",
   "execution_count": 6,
   "id": "eb160637",
   "metadata": {},
   "outputs": [
    {
     "name": "stdout",
     "output_type": "stream",
     "text": [
      "✅ Valid sequences: 146\n",
      "❌ Invalid sequences (bad shapes): 0\n"
     ]
    }
   ],
   "source": [
    "from collections import Counter\n",
    "\n",
    "# Parameters\n",
    "seq_len = 6\n",
    "X_seq = []\n",
    "invalid_count = 0\n",
    "\n",
    "# Group by machine_id to preserve temporal structure\n",
    "for mid, group in df_clean[df_clean[\"failed\"] == 0].groupby(\"machine_id\"):\n",
    "    group = group.sort_values(by=\"time\")\n",
    "    hists = group[\"cpu_hist\"].tolist()\n",
    "\n",
    "    for i in range(len(hists) - seq_len + 1):\n",
    "        seq = hists[i:i + seq_len]\n",
    "        if all(len(vec) == 11 for vec in seq):  # ✅ Only accept clean 11-bin histograms\n",
    "            X_seq.append(np.stack(seq))\n",
    "        else:\n",
    "            invalid_count += 1\n",
    "\n",
    "print(f\"✅ Valid sequences: {len(X_seq)}\")\n",
    "print(f\"❌ Invalid sequences (bad shapes): {invalid_count}\")\n"
   ]
  },
  {
   "cell_type": "code",
   "execution_count": 7,
   "id": "69b62870",
   "metadata": {},
   "outputs": [
    {
     "name": "stdout",
     "output_type": "stream",
     "text": [
      "📦 Input sequence tensor shape (N, 6, 11): (146, 6, 11)\n",
      "📐 Flattened input shape for Autoencoder: (146, 66)\n"
     ]
    }
   ],
   "source": [
    "import numpy as np\n",
    "\n",
    "# Convert list of sequences to NumPy array\n",
    "X_seq = np.stack(X_seq)  # shape: (num_sequences, 6, 11)\n",
    "\n",
    "# Flatten sequences into shape (num_sequences, 66) for input to Autoencoder\n",
    "X_seq_flat = X_seq.reshape(X_seq.shape[0], -1)\n",
    "\n",
    "print(f\"📦 Input sequence tensor shape (N, 6, 11): {X_seq.shape}\")\n",
    "print(f\"📐 Flattened input shape for Autoencoder: {X_seq_flat.shape}\")\n"
   ]
  },
  {
   "cell_type": "code",
   "execution_count": 8,
   "id": "59e21ac4",
   "metadata": {},
   "outputs": [
    {
     "name": "stdout",
     "output_type": "stream",
     "text": [
      "Epoch 1/30 - Loss: 0.0213\n",
      "Epoch 2/30 - Loss: 0.0200\n",
      "Epoch 3/30 - Loss: 0.0189\n",
      "Epoch 4/30 - Loss: 0.0177\n",
      "Epoch 5/30 - Loss: 0.0167\n",
      "Epoch 6/30 - Loss: 0.0156\n",
      "Epoch 7/30 - Loss: 0.0147\n",
      "Epoch 8/30 - Loss: 0.0138\n",
      "Epoch 9/30 - Loss: 0.0129\n",
      "Epoch 10/30 - Loss: 0.0121\n",
      "Epoch 11/30 - Loss: 0.0113\n",
      "Epoch 12/30 - Loss: 0.0106\n",
      "Epoch 13/30 - Loss: 0.0099\n",
      "Epoch 14/30 - Loss: 0.0092\n",
      "Epoch 15/30 - Loss: 0.0086\n",
      "Epoch 16/30 - Loss: 0.0080\n",
      "Epoch 17/30 - Loss: 0.0075\n",
      "Epoch 18/30 - Loss: 0.0070\n",
      "Epoch 19/30 - Loss: 0.0065\n",
      "Epoch 20/30 - Loss: 0.0060\n",
      "Epoch 21/30 - Loss: 0.0056\n",
      "Epoch 22/30 - Loss: 0.0052\n",
      "Epoch 23/30 - Loss: 0.0048\n",
      "Epoch 24/30 - Loss: 0.0045\n",
      "Epoch 25/30 - Loss: 0.0041\n",
      "Epoch 26/30 - Loss: 0.0038\n",
      "Epoch 27/30 - Loss: 0.0035\n",
      "Epoch 28/30 - Loss: 0.0033\n",
      "Epoch 29/30 - Loss: 0.0030\n",
      "Epoch 30/30 - Loss: 0.0028\n"
     ]
    }
   ],
   "source": [
    "import torch\n",
    "import torch.nn as nn\n",
    "from torch.utils.data import DataLoader, TensorDataset\n",
    "\n",
    "# Convert to PyTorch tensor\n",
    "X_tensor = torch.tensor(X_seq_flat, dtype=torch.float32)\n",
    "\n",
    "# Define Autoencoder model\n",
    "class Autoencoder(nn.Module):\n",
    "    def __init__(self, input_dim=66, hidden_dim=32, bottleneck_dim=8):\n",
    "        super(Autoencoder, self).__init__()\n",
    "        self.encoder = nn.Sequential(\n",
    "            nn.Linear(input_dim, hidden_dim),\n",
    "            nn.ReLU(),\n",
    "            nn.Linear(hidden_dim, bottleneck_dim),\n",
    "        )\n",
    "        self.decoder = nn.Sequential(\n",
    "            nn.Linear(bottleneck_dim, hidden_dim),\n",
    "            nn.ReLU(),\n",
    "            nn.Linear(hidden_dim, input_dim),\n",
    "        )\n",
    "\n",
    "    def forward(self, x):\n",
    "        encoded = self.encoder(x)\n",
    "        decoded = self.decoder(encoded)\n",
    "        return decoded\n",
    "\n",
    "# Instantiate model\n",
    "model = Autoencoder()\n",
    "criterion = nn.MSELoss()\n",
    "optimizer = torch.optim.Adam(model.parameters(), lr=1e-3)\n",
    "\n",
    "# Train on healthy data\n",
    "batch_size = 256\n",
    "loader = DataLoader(X_tensor, batch_size=batch_size, shuffle=True)\n",
    "\n",
    "# Training loop\n",
    "n_epochs = 30\n",
    "model.train()\n",
    "for epoch in range(n_epochs):\n",
    "    epoch_loss = 0\n",
    "    for batch in loader:\n",
    "        optimizer.zero_grad()\n",
    "        reconstructed = model(batch)\n",
    "        loss = criterion(reconstructed, batch)\n",
    "        loss.backward()\n",
    "        optimizer.step()\n",
    "        epoch_loss += loss.item()\n",
    "    print(f\"Epoch {epoch+1}/{n_epochs} - Loss: {epoch_loss:.4f}\")\n"
   ]
  },
  {
   "cell_type": "code",
   "execution_count": 9,
   "id": "f3d7170f",
   "metadata": {},
   "outputs": [
    {
     "name": "stdout",
     "output_type": "stream",
     "text": [
      "✅ Encoded embeddings shape: (146, 8)\n",
      "\n",
      "📊 One-Class SVM Self-Test Report (on healthy data only):\n",
      "              precision    recall  f1-score   support\n",
      "\n",
      "      Normal       1.00      0.99      1.00       146\n",
      "     Anomaly       0.00      0.00      0.00         0\n",
      "\n",
      "    accuracy                           0.99       146\n",
      "   macro avg       0.50      0.50      0.50       146\n",
      "weighted avg       1.00      0.99      1.00       146\n",
      "\n"
     ]
    },
    {
     "name": "stderr",
     "output_type": "stream",
     "text": [
      "c:\\Users\\binwa\\anaconda3\\Lib\\site-packages\\sklearn\\metrics\\_classification.py:1509: UndefinedMetricWarning: Recall is ill-defined and being set to 0.0 in labels with no true samples. Use `zero_division` parameter to control this behavior.\n",
      "  _warn_prf(average, modifier, f\"{metric.capitalize()} is\", len(result))\n",
      "c:\\Users\\binwa\\anaconda3\\Lib\\site-packages\\sklearn\\metrics\\_classification.py:1509: UndefinedMetricWarning: Recall is ill-defined and being set to 0.0 in labels with no true samples. Use `zero_division` parameter to control this behavior.\n",
      "  _warn_prf(average, modifier, f\"{metric.capitalize()} is\", len(result))\n",
      "c:\\Users\\binwa\\anaconda3\\Lib\\site-packages\\sklearn\\metrics\\_classification.py:1509: UndefinedMetricWarning: Recall is ill-defined and being set to 0.0 in labels with no true samples. Use `zero_division` parameter to control this behavior.\n",
      "  _warn_prf(average, modifier, f\"{metric.capitalize()} is\", len(result))\n"
     ]
    }
   ],
   "source": [
    "from sklearn.svm import OneClassSVM\n",
    "from sklearn.metrics import classification_report, roc_auc_score\n",
    "\n",
    "# Switch model to evaluation mode and encode all training points\n",
    "model.eval()\n",
    "with torch.no_grad():\n",
    "    embeddings = model.encoder(X_tensor).numpy()  # Shape: (N, bottleneck_dim)\n",
    "\n",
    "print(\"✅ Encoded embeddings shape:\", embeddings.shape)\n",
    "\n",
    "# Fit One-Class SVM on healthy embeddings\n",
    "svm = OneClassSVM(kernel='rbf', gamma='scale', nu=0.01)\n",
    "svm.fit(embeddings)\n",
    "\n",
    "# Predict anomalies: -1 = anomaly, 1 = normal\n",
    "y_pred_svm = svm.predict(embeddings)\n",
    "y_pred_labels = (y_pred_svm == -1).astype(int)  # 1 = anomaly, 0 = normal\n",
    "\n",
    "# Since we trained only on healthy data, all should be normal\n",
    "true_labels = np.zeros_like(y_pred_labels)\n",
    "\n",
    "# Evaluate performance\n",
    "print(\"\\n📊 One-Class SVM Self-Test Report (on healthy data only):\")\n",
    "print(classification_report(true_labels, y_pred_labels, target_names=[\"Normal\", \"Anomaly\"]))\n"
   ]
  },
  {
   "cell_type": "code",
   "execution_count": 12,
   "id": "69129772",
   "metadata": {},
   "outputs": [
    {
     "name": "stdout",
     "output_type": "stream",
     "text": [
      "✅ Real sequences collected: 5565\n"
     ]
    }
   ],
   "source": [
    "# Collect test sequences with both failed and healthy labels\n",
    "X_real_seq = []\n",
    "real_labels = []\n",
    "\n",
    "for mid, group in df.groupby(\"machine_id\"):\n",
    "    group = group.sort_values(by=\"time\")\n",
    "    hists = group[\"cpu_hist\"].tolist()\n",
    "    labels = group[\"failed\"].tolist()\n",
    "\n",
    "    for i in range(len(hists) - seq_len + 1):\n",
    "        seq = hists[i:i+seq_len]\n",
    "        if all(isinstance(vec, np.ndarray) and len(vec) == 11 for vec in seq):\n",
    "            X_real_seq.append(np.stack(seq))  # shape: (6, 11)\n",
    "            real_labels.append(labels[i + seq_len - 1])\n",
    "\n",
    "print(f\"✅ Real sequences collected: {len(X_real_seq)}\")\n"
   ]
  },
  {
   "cell_type": "code",
   "execution_count": 13,
   "id": "8ff11e9c",
   "metadata": {},
   "outputs": [
    {
     "name": "stdout",
     "output_type": "stream",
     "text": [
      "\n",
      "📋 Classification Report (One-Class SVM on real data):\n",
      "              precision    recall  f1-score   support\n",
      "\n",
      "      Normal       0.90      1.00      0.94      4985\n",
      "        Fail       0.04      0.00      0.00       580\n",
      "\n",
      "    accuracy                           0.89      5565\n",
      "   macro avg       0.47      0.50      0.47      5565\n",
      "weighted avg       0.81      0.89      0.84      5565\n",
      "\n",
      "🔥 ROC AUC Score: 0.499\n"
     ]
    },
    {
     "data": {
      "image/png": "[encoded data removed]",
      "text/plain": [
       "<Figure size 600x400 with 2 Axes>"
      ]
     },
     "metadata": {},
     "output_type": "display_data"
    }
   ],
   "source": [
    "from sklearn.metrics import classification_report, confusion_matrix, roc_auc_score\n",
    "import seaborn as sns\n",
    "import matplotlib.pyplot as plt\n",
    "import os\n",
    "\n",
    "# Flatten the real sequences\n",
    "X_real_seq = np.stack(X_real_seq)  # shape: (N, 6, 11)\n",
    "X_real_flat = X_real_seq.reshape(X_real_seq.shape[0], -1)\n",
    "X_real_tensor = torch.tensor(X_real_flat, dtype=torch.float32)\n",
    "\n",
    "# Get latent features from encoder\n",
    "model.eval()\n",
    "with torch.no_grad():\n",
    "    latent_real = model.encoder(X_real_tensor).numpy()\n",
    "\n",
    "# Predict anomalies with SVM\n",
    "y_pred_real = (svm.predict(latent_real) == -1).astype(int)  # 1 = anomaly\n",
    "y_true_real = np.array(real_labels)                         # 1 = failure\n",
    "\n",
    "# 📊 Evaluation\n",
    "print(\"\\n📋 Classification Report (One-Class SVM on real data):\")\n",
    "print(classification_report(y_true_real, y_pred_real, target_names=[\"Normal\", \"Fail\"]))\n",
    "\n",
    "roc_score = roc_auc_score(y_true_real, y_pred_real)\n",
    "print(f\"🔥 ROC AUC Score: {roc_score:.3f}\")\n",
    "\n",
    "# 🔍 Confusion Matrix\n",
    "cm = confusion_matrix(y_true_real, y_pred_real)\n",
    "plt.figure(figsize=(6, 4))\n",
    "sns.heatmap(cm, annot=True, fmt=\"d\", cmap=\"Blues\", xticklabels=[\"Normal\", \"Anomaly\"], yticklabels=[\"Normal\", \"Fail\"])\n",
    "plt.title(\"Anomaly Detection Confusion Matrix\")\n",
    "plt.xlabel(\"Predicted\")\n",
    "plt.ylabel(\"Actual\")\n",
    "plt.tight_layout()\n",
    "os.makedirs(\"visualization\", exist_ok=True)\n",
    "plt.savefig(\"visualization/one_class_svm_confusion_matrix.png\")\n",
    "plt.show()\n"
   ]
  },
  {
   "cell_type": "code",
   "execution_count": 16,
   "id": "786aeb3a",
   "metadata": {},
   "outputs": [
    {
     "name": "stdout",
     "output_type": "stream",
     "text": [
      "🔍 Showing explanation for anomaly index 313 (true label = 0)\n"
     ]
    },
    {
     "name": "stderr",
     "output_type": "stream",
     "text": [
      "C:\\Users\\binwa\\AppData\\Local\\Temp\\ipykernel_19640\\3432794707.py:17: UserWarning: Glyph 128269 (\\N{LEFT-POINTING MAGNIFYING GLASS}) missing from current font.\n",
      "  plt.tight_layout()\n",
      "C:\\Users\\binwa\\AppData\\Local\\Temp\\ipykernel_19640\\3432794707.py:18: UserWarning: Glyph 128269 (\\N{LEFT-POINTING MAGNIFYING GLASS}) missing from current font.\n",
      "  plt.savefig(\"visualization/autoencoder_error_heatmap_sample.png\")\n",
      "c:\\Users\\binwa\\anaconda3\\Lib\\site-packages\\IPython\\core\\pylabtools.py:170: UserWarning: Glyph 128269 (\\N{LEFT-POINTING MAGNIFYING GLASS}) missing from current font.\n",
      "  fig.canvas.print_figure(bytes_io, **kw)\n"
     ]
    },
    {
     "data": {
      "image/png": "[encoded data removed]",
      "text/plain": [
       "<Figure size 800x400 with 2 Axes>"
      ]
     },
     "metadata": {},
     "output_type": "display_data"
    }
   ],
   "source": [
    "# Compute per-feature squared error\n",
    "errors = (X_real_flat - X_reconstructed)**2  # shape: (N, 66)\n",
    "\n",
    "# Choose one anomalous sample (detected as anomaly)\n",
    "anomalous_indices = np.where(y_pred_real == 1)[0]\n",
    "if len(anomalous_indices) > 0:\n",
    "    idx = anomalous_indices[0]\n",
    "    print(f\"🔍 Showing explanation for anomaly index {idx} (true label = {y_true_real[idx]})\")\n",
    "\n",
    "    error_vector = errors[idx].reshape(seq_len, -1)  # shape: (6, 11)\n",
    "\n",
    "    plt.figure(figsize=(8, 4))\n",
    "    sns.heatmap(error_vector, cmap=\"Reds\", annot=False, cbar=True)\n",
    "    plt.title(\"🔍 Per-Timestep Per-Bin Error (Reconstruction Failure)\")\n",
    "    plt.xlabel(\"Histogram Bin\")\n",
    "    plt.ylabel(\"Time Step\")\n",
    "    plt.tight_layout()\n",
    "    plt.savefig(\"visualization/autoencoder_error_heatmap_sample.png\")\n",
    "    plt.show()\n",
    "else:\n",
    "    print(\"❌ No detected anomalies to explain.\")\n"
   ]
  },
  {
   "cell_type": "code",
   "execution_count": null,
   "id": "2ea6b10f",
   "metadata": {},
   "outputs": [],
   "source": []
  }
 ],
 "metadata": {
  "kernelspec": {
   "display_name": "base",
   "language": "python",
   "name": "python3"
  },
  "language_info": {
   "codemirror_mode": {
    "name": "ipython",
    "version": 3
   },
   "file_extension": ".py",
   "mimetype": "text/x-python",
   "name": "python",
   "nbconvert_exporter": "python",
   "pygments_lexer": "ipython3",
   "version": "3.12.4"
  }
 },
 "nbformat": 4,
 "nbformat_minor": 5
}
