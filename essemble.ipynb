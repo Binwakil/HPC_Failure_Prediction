{
 "cells": [
  {
   "cell_type": "code",
   "execution_count": null,
   "id": "f16839ac",
   "metadata": {},
   "outputs": [],
   "source": [
    "import numpy as np\n",
    "import pandas as pd\n",
    "\n",
    "# ✅ Replace these with your actual prediction arrays (aligned on same test set)\n",
    "# Each should be shape (N, ), binary values\n",
    "xgb_preds     = np.array(xgb_test_preds)          # from XGBoost\n",
    "lstm_preds    = np.array(lstm_test_preds)         # from LSTM\n",
    "gnn_preds     = np.array(gnn_test_preds)          # from LSTM+GNN\n",
    "svm_anomalies = np.array(y_pred_real)            # from Autoencoder+SVM\n",
    "true_labels   = np.array(y_true_real)            # shared ground truth\n",
    "\n",
    "# Ensure same length\n",
    "assert all(len(arr) == len(true_labels) for arr in [xgb_preds, lstm_preds, gnn_preds, svm_anomalies])\n",
    "\n",
    "# Stack into meta-feature matrix Z\n",
    "Z = np.stack([xgb_preds, lstm_preds, gnn_preds, svm_anomalies], axis=1)\n",
    "print(\"✅ Meta-feature matrix Z shape:\", Z.shape)\n",
    "print(\"📌 First 5 rows:\\n\", Z[:5])\n"
   ]
  }
 ],
 "metadata": {
  "language_info": {
   "name": "python"
  }
 },
 "nbformat": 4,
 "nbformat_minor": 5
}
